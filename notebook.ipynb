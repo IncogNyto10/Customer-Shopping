{
 "cells": [
  {
   "cell_type": "markdown",
   "id": "1b814fcf-c835-4174-80a2-6f1a98e73913",
   "metadata": {},
   "source": [
    "# **Customer Shopping Data Analysis** 🛍️📊"
   ]
  },
  {
   "cell_type": "markdown",
   "id": "7524b170-6473-49ba-b0f7-ae1b78d1b1eb",
   "metadata": {},
   "source": [
    "El objetivo es aplicar los conocimientos adquiridos en bases de datos transaccionales y analíticas, bodega de datos, ETL y análisis descriptivo.  "
   ]
  },
  {
   "cell_type": "markdown",
   "id": "fa376616-eeae-45ec-9236-4a6ca0570afc",
   "metadata": {},
   "source": [
    "## **Conjunto de datos**"
   ]
  },
  {
   "cell_type": "markdown",
   "id": "82e30b3e-0314-4640-8278-fdd9feb6f596",
   "metadata": {},
   "source": [
    "Este dataset contiene información sobre compras de clientes en una tienda minorista, incluyendo productos, categorías, precios, cantidad comprada y métodos de pago\n",
    "\n",
    "**link** 🔗: https://www.kaggle.com/datasets/mehmettahiraslan/customer-shopping-dataset/data?select=customer_shopping_data.csv\n",
    "\n",
    "## **Contenido**\n",
    "\n",
    "Información de atributos:\n",
    "\n",
    "**invoice_no**: Número de factura. Nominal. Una combinación de la letra \"I\" y un entero de 6 dígitos asignado de forma única a cada operación.\n",
    "\n",
    "**customer_id**: Número de cliente. Nominal. Una combinación de la letra \"C\" y un entero de 6 dígitos asignado de forma única a cada operación.\n",
    "\n",
    "**gender**: Variable de cadena que indica el género del cliente.\n",
    "\n",
    "**age**: Variable de entero positivo que indica la edad del cliente.\n",
    "\n",
    "**category**: Variable de cadena que indica la categoría del producto adquirido.\n",
    "\n",
    "**quantity**: Cantidad de cada producto (artículo) por transacción. Numérico.\n",
    "\n",
    "**price**: Precio unitario. Numérico. Precio del producto por unidad en liras turcas (TL).\n",
    "\n",
    "**payment_method**: Variable de cadena que indica el método de pago (efectivo, tarjeta de crédito o tarjeta de débito) utilizado para la transacción.\n",
    "\n",
    "**invoice_date**: Fecha de la factura. El día en que se generó la transacción.\n",
    "\n",
    "**shopping_mall**: Variable de cadena que indica el nombre del centro comercial en el que se realizó la transacción."
   ]
  },
  {
   "cell_type": "code",
   "execution_count": 5,
   "id": "d0f2a640-b107-44ac-b7f4-d1d54f7f4a48",
   "metadata": {},
   "outputs": [],
   "source": [
    "import pandas as pd\n",
    "df = pd.read_csv('dataset.csv')"
   ]
  },
  {
   "cell_type": "markdown",
   "id": "c9f1540f-af17-408a-a928-852eba655fca",
   "metadata": {},
   "source": [
    "**Damos un vistazo al dataset**"
   ]
  },
  {
   "cell_type": "code",
   "execution_count": 7,
   "id": "cdc04941-0d4b-4492-a3f5-3e133d39fe00",
   "metadata": {},
   "outputs": [
    {
     "data": {
      "text/html": [
       "<div>\n",
       "<style scoped>\n",
       "    .dataframe tbody tr th:only-of-type {\n",
       "        vertical-align: middle;\n",
       "    }\n",
       "\n",
       "    .dataframe tbody tr th {\n",
       "        vertical-align: top;\n",
       "    }\n",
       "\n",
       "    .dataframe thead th {\n",
       "        text-align: right;\n",
       "    }\n",
       "</style>\n",
       "<table border=\"1\" class=\"dataframe\">\n",
       "  <thead>\n",
       "    <tr style=\"text-align: right;\">\n",
       "      <th></th>\n",
       "      <th>invoice_no</th>\n",
       "      <th>customer_id</th>\n",
       "      <th>gender</th>\n",
       "      <th>age</th>\n",
       "      <th>category</th>\n",
       "      <th>quantity</th>\n",
       "      <th>price</th>\n",
       "      <th>payment_method</th>\n",
       "      <th>invoice_date</th>\n",
       "      <th>shopping_mall</th>\n",
       "    </tr>\n",
       "  </thead>\n",
       "  <tbody>\n",
       "    <tr>\n",
       "      <th>0</th>\n",
       "      <td>I138884</td>\n",
       "      <td>C241288</td>\n",
       "      <td>Female</td>\n",
       "      <td>28</td>\n",
       "      <td>Clothing</td>\n",
       "      <td>5</td>\n",
       "      <td>1500.40</td>\n",
       "      <td>Credit Card</td>\n",
       "      <td>5/8/2022</td>\n",
       "      <td>Kanyon</td>\n",
       "    </tr>\n",
       "    <tr>\n",
       "      <th>1</th>\n",
       "      <td>I317333</td>\n",
       "      <td>C111565</td>\n",
       "      <td>Male</td>\n",
       "      <td>21</td>\n",
       "      <td>Shoes</td>\n",
       "      <td>3</td>\n",
       "      <td>1800.51</td>\n",
       "      <td>Debit Card</td>\n",
       "      <td>12/12/2021</td>\n",
       "      <td>Forum Istanbul</td>\n",
       "    </tr>\n",
       "    <tr>\n",
       "      <th>2</th>\n",
       "      <td>I127801</td>\n",
       "      <td>C266599</td>\n",
       "      <td>Male</td>\n",
       "      <td>20</td>\n",
       "      <td>Clothing</td>\n",
       "      <td>1</td>\n",
       "      <td>300.08</td>\n",
       "      <td>Cash</td>\n",
       "      <td>9/11/2021</td>\n",
       "      <td>Metrocity</td>\n",
       "    </tr>\n",
       "    <tr>\n",
       "      <th>3</th>\n",
       "      <td>I173702</td>\n",
       "      <td>C988172</td>\n",
       "      <td>Female</td>\n",
       "      <td>66</td>\n",
       "      <td>Shoes</td>\n",
       "      <td>5</td>\n",
       "      <td>3000.85</td>\n",
       "      <td>Credit Card</td>\n",
       "      <td>16/05/2021</td>\n",
       "      <td>Metropol AVM</td>\n",
       "    </tr>\n",
       "    <tr>\n",
       "      <th>4</th>\n",
       "      <td>I337046</td>\n",
       "      <td>C189076</td>\n",
       "      <td>Female</td>\n",
       "      <td>53</td>\n",
       "      <td>Books</td>\n",
       "      <td>4</td>\n",
       "      <td>60.60</td>\n",
       "      <td>Cash</td>\n",
       "      <td>24/10/2021</td>\n",
       "      <td>Kanyon</td>\n",
       "    </tr>\n",
       "    <tr>\n",
       "      <th>...</th>\n",
       "      <td>...</td>\n",
       "      <td>...</td>\n",
       "      <td>...</td>\n",
       "      <td>...</td>\n",
       "      <td>...</td>\n",
       "      <td>...</td>\n",
       "      <td>...</td>\n",
       "      <td>...</td>\n",
       "      <td>...</td>\n",
       "      <td>...</td>\n",
       "    </tr>\n",
       "    <tr>\n",
       "      <th>99452</th>\n",
       "      <td>I219422</td>\n",
       "      <td>C441542</td>\n",
       "      <td>Female</td>\n",
       "      <td>45</td>\n",
       "      <td>Souvenir</td>\n",
       "      <td>5</td>\n",
       "      <td>58.65</td>\n",
       "      <td>Credit Card</td>\n",
       "      <td>21/09/2022</td>\n",
       "      <td>Kanyon</td>\n",
       "    </tr>\n",
       "    <tr>\n",
       "      <th>99453</th>\n",
       "      <td>I325143</td>\n",
       "      <td>C569580</td>\n",
       "      <td>Male</td>\n",
       "      <td>27</td>\n",
       "      <td>Food &amp; Beverage</td>\n",
       "      <td>2</td>\n",
       "      <td>10.46</td>\n",
       "      <td>Cash</td>\n",
       "      <td>22/09/2021</td>\n",
       "      <td>Forum Istanbul</td>\n",
       "    </tr>\n",
       "    <tr>\n",
       "      <th>99454</th>\n",
       "      <td>I824010</td>\n",
       "      <td>C103292</td>\n",
       "      <td>Male</td>\n",
       "      <td>63</td>\n",
       "      <td>Food &amp; Beverage</td>\n",
       "      <td>2</td>\n",
       "      <td>10.46</td>\n",
       "      <td>Debit Card</td>\n",
       "      <td>28/03/2021</td>\n",
       "      <td>Metrocity</td>\n",
       "    </tr>\n",
       "    <tr>\n",
       "      <th>99455</th>\n",
       "      <td>I702964</td>\n",
       "      <td>C800631</td>\n",
       "      <td>Male</td>\n",
       "      <td>56</td>\n",
       "      <td>Technology</td>\n",
       "      <td>4</td>\n",
       "      <td>4200.00</td>\n",
       "      <td>Cash</td>\n",
       "      <td>16/03/2021</td>\n",
       "      <td>Istinye Park</td>\n",
       "    </tr>\n",
       "    <tr>\n",
       "      <th>99456</th>\n",
       "      <td>I232867</td>\n",
       "      <td>C273973</td>\n",
       "      <td>Female</td>\n",
       "      <td>36</td>\n",
       "      <td>Souvenir</td>\n",
       "      <td>3</td>\n",
       "      <td>35.19</td>\n",
       "      <td>Credit Card</td>\n",
       "      <td>15/10/2022</td>\n",
       "      <td>Mall of Istanbul</td>\n",
       "    </tr>\n",
       "  </tbody>\n",
       "</table>\n",
       "<p>99457 rows × 10 columns</p>\n",
       "</div>"
      ],
      "text/plain": [
       "      invoice_no customer_id  gender  age         category  quantity    price  \\\n",
       "0        I138884     C241288  Female   28         Clothing         5  1500.40   \n",
       "1        I317333     C111565    Male   21            Shoes         3  1800.51   \n",
       "2        I127801     C266599    Male   20         Clothing         1   300.08   \n",
       "3        I173702     C988172  Female   66            Shoes         5  3000.85   \n",
       "4        I337046     C189076  Female   53            Books         4    60.60   \n",
       "...          ...         ...     ...  ...              ...       ...      ...   \n",
       "99452    I219422     C441542  Female   45         Souvenir         5    58.65   \n",
       "99453    I325143     C569580    Male   27  Food & Beverage         2    10.46   \n",
       "99454    I824010     C103292    Male   63  Food & Beverage         2    10.46   \n",
       "99455    I702964     C800631    Male   56       Technology         4  4200.00   \n",
       "99456    I232867     C273973  Female   36         Souvenir         3    35.19   \n",
       "\n",
       "      payment_method invoice_date     shopping_mall  \n",
       "0        Credit Card     5/8/2022            Kanyon  \n",
       "1         Debit Card   12/12/2021    Forum Istanbul  \n",
       "2               Cash    9/11/2021         Metrocity  \n",
       "3        Credit Card   16/05/2021      Metropol AVM  \n",
       "4               Cash   24/10/2021            Kanyon  \n",
       "...              ...          ...               ...  \n",
       "99452    Credit Card   21/09/2022            Kanyon  \n",
       "99453           Cash   22/09/2021    Forum Istanbul  \n",
       "99454     Debit Card   28/03/2021         Metrocity  \n",
       "99455           Cash   16/03/2021      Istinye Park  \n",
       "99456    Credit Card   15/10/2022  Mall of Istanbul  \n",
       "\n",
       "[99457 rows x 10 columns]"
      ]
     },
     "execution_count": 7,
     "metadata": {},
     "output_type": "execute_result"
    }
   ],
   "source": [
    "df"
   ]
  },
  {
   "cell_type": "markdown",
   "id": "792f723f-b187-47c3-a3e5-1982f39f646b",
   "metadata": {},
   "source": [
    "### **Observaciones**\n",
    "* La variable **invoice_no** es el id de la transaccion, es un valor unico e irrepetible\n",
    "* La variable **customer_id** no se repite, es decir que todos los clientes en el dataset son unicos teniendo un total de **99457** clinetes\n",
    "* La variable **invoice_date** si se repite por lo que hay una fecha donde se realizaron una gran cantidad de compras"
   ]
  },
  {
   "cell_type": "markdown",
   "id": "f00fe86d-9af2-4313-a239-c0d1b78905eb",
   "metadata": {},
   "source": [
    "⚠️ Es importante realizar una copia del Dataset para al momento de realizar transformaciones en el, tengamos una copia original"
   ]
  },
  {
   "cell_type": "code",
   "execution_count": 10,
   "id": "bb5db2b5-6f29-4218-a1d5-53ae5cf4df9b",
   "metadata": {},
   "outputs": [],
   "source": [
    "df_orig = df\n",
    "df = df_orig.copy()"
   ]
  },
  {
   "cell_type": "code",
   "execution_count": 11,
   "id": "341f4e1b-1bf6-49b0-9fd8-d85c58f61873",
   "metadata": {},
   "outputs": [
    {
     "data": {
      "text/html": [
       "<div>\n",
       "<style scoped>\n",
       "    .dataframe tbody tr th:only-of-type {\n",
       "        vertical-align: middle;\n",
       "    }\n",
       "\n",
       "    .dataframe tbody tr th {\n",
       "        vertical-align: top;\n",
       "    }\n",
       "\n",
       "    .dataframe thead th {\n",
       "        text-align: right;\n",
       "    }\n",
       "</style>\n",
       "<table border=\"1\" class=\"dataframe\">\n",
       "  <thead>\n",
       "    <tr style=\"text-align: right;\">\n",
       "      <th></th>\n",
       "      <th>invoice_no</th>\n",
       "      <th>customer_id</th>\n",
       "      <th>gender</th>\n",
       "      <th>age</th>\n",
       "      <th>category</th>\n",
       "      <th>quantity</th>\n",
       "      <th>price</th>\n",
       "      <th>payment_method</th>\n",
       "      <th>invoice_date</th>\n",
       "      <th>shopping_mall</th>\n",
       "    </tr>\n",
       "  </thead>\n",
       "  <tbody>\n",
       "    <tr>\n",
       "      <th>0</th>\n",
       "      <td>I138884</td>\n",
       "      <td>C241288</td>\n",
       "      <td>Female</td>\n",
       "      <td>28</td>\n",
       "      <td>Clothing</td>\n",
       "      <td>5</td>\n",
       "      <td>1500.40</td>\n",
       "      <td>Credit Card</td>\n",
       "      <td>5/8/2022</td>\n",
       "      <td>Kanyon</td>\n",
       "    </tr>\n",
       "    <tr>\n",
       "      <th>1</th>\n",
       "      <td>I317333</td>\n",
       "      <td>C111565</td>\n",
       "      <td>Male</td>\n",
       "      <td>21</td>\n",
       "      <td>Shoes</td>\n",
       "      <td>3</td>\n",
       "      <td>1800.51</td>\n",
       "      <td>Debit Card</td>\n",
       "      <td>12/12/2021</td>\n",
       "      <td>Forum Istanbul</td>\n",
       "    </tr>\n",
       "    <tr>\n",
       "      <th>2</th>\n",
       "      <td>I127801</td>\n",
       "      <td>C266599</td>\n",
       "      <td>Male</td>\n",
       "      <td>20</td>\n",
       "      <td>Clothing</td>\n",
       "      <td>1</td>\n",
       "      <td>300.08</td>\n",
       "      <td>Cash</td>\n",
       "      <td>9/11/2021</td>\n",
       "      <td>Metrocity</td>\n",
       "    </tr>\n",
       "    <tr>\n",
       "      <th>3</th>\n",
       "      <td>I173702</td>\n",
       "      <td>C988172</td>\n",
       "      <td>Female</td>\n",
       "      <td>66</td>\n",
       "      <td>Shoes</td>\n",
       "      <td>5</td>\n",
       "      <td>3000.85</td>\n",
       "      <td>Credit Card</td>\n",
       "      <td>16/05/2021</td>\n",
       "      <td>Metropol AVM</td>\n",
       "    </tr>\n",
       "    <tr>\n",
       "      <th>4</th>\n",
       "      <td>I337046</td>\n",
       "      <td>C189076</td>\n",
       "      <td>Female</td>\n",
       "      <td>53</td>\n",
       "      <td>Books</td>\n",
       "      <td>4</td>\n",
       "      <td>60.60</td>\n",
       "      <td>Cash</td>\n",
       "      <td>24/10/2021</td>\n",
       "      <td>Kanyon</td>\n",
       "    </tr>\n",
       "    <tr>\n",
       "      <th>5</th>\n",
       "      <td>I227836</td>\n",
       "      <td>C657758</td>\n",
       "      <td>Female</td>\n",
       "      <td>28</td>\n",
       "      <td>Clothing</td>\n",
       "      <td>5</td>\n",
       "      <td>1500.40</td>\n",
       "      <td>Credit Card</td>\n",
       "      <td>24/05/2022</td>\n",
       "      <td>Forum Istanbul</td>\n",
       "    </tr>\n",
       "    <tr>\n",
       "      <th>6</th>\n",
       "      <td>I121056</td>\n",
       "      <td>C151197</td>\n",
       "      <td>Female</td>\n",
       "      <td>49</td>\n",
       "      <td>Cosmetics</td>\n",
       "      <td>1</td>\n",
       "      <td>40.66</td>\n",
       "      <td>Cash</td>\n",
       "      <td>13/03/2022</td>\n",
       "      <td>Istinye Park</td>\n",
       "    </tr>\n",
       "    <tr>\n",
       "      <th>7</th>\n",
       "      <td>I293112</td>\n",
       "      <td>C176086</td>\n",
       "      <td>Female</td>\n",
       "      <td>32</td>\n",
       "      <td>Clothing</td>\n",
       "      <td>2</td>\n",
       "      <td>600.16</td>\n",
       "      <td>Credit Card</td>\n",
       "      <td>13/01/2021</td>\n",
       "      <td>Mall of Istanbul</td>\n",
       "    </tr>\n",
       "    <tr>\n",
       "      <th>8</th>\n",
       "      <td>I293455</td>\n",
       "      <td>C159642</td>\n",
       "      <td>Male</td>\n",
       "      <td>69</td>\n",
       "      <td>Clothing</td>\n",
       "      <td>3</td>\n",
       "      <td>900.24</td>\n",
       "      <td>Credit Card</td>\n",
       "      <td>4/11/2021</td>\n",
       "      <td>Metrocity</td>\n",
       "    </tr>\n",
       "    <tr>\n",
       "      <th>9</th>\n",
       "      <td>I326945</td>\n",
       "      <td>C283361</td>\n",
       "      <td>Female</td>\n",
       "      <td>60</td>\n",
       "      <td>Clothing</td>\n",
       "      <td>2</td>\n",
       "      <td>600.16</td>\n",
       "      <td>Credit Card</td>\n",
       "      <td>22/08/2021</td>\n",
       "      <td>Kanyon</td>\n",
       "    </tr>\n",
       "  </tbody>\n",
       "</table>\n",
       "</div>"
      ],
      "text/plain": [
       "  invoice_no customer_id  gender  age   category  quantity    price  \\\n",
       "0    I138884     C241288  Female   28   Clothing         5  1500.40   \n",
       "1    I317333     C111565    Male   21      Shoes         3  1800.51   \n",
       "2    I127801     C266599    Male   20   Clothing         1   300.08   \n",
       "3    I173702     C988172  Female   66      Shoes         5  3000.85   \n",
       "4    I337046     C189076  Female   53      Books         4    60.60   \n",
       "5    I227836     C657758  Female   28   Clothing         5  1500.40   \n",
       "6    I121056     C151197  Female   49  Cosmetics         1    40.66   \n",
       "7    I293112     C176086  Female   32   Clothing         2   600.16   \n",
       "8    I293455     C159642    Male   69   Clothing         3   900.24   \n",
       "9    I326945     C283361  Female   60   Clothing         2   600.16   \n",
       "\n",
       "  payment_method invoice_date     shopping_mall  \n",
       "0    Credit Card     5/8/2022            Kanyon  \n",
       "1     Debit Card   12/12/2021    Forum Istanbul  \n",
       "2           Cash    9/11/2021         Metrocity  \n",
       "3    Credit Card   16/05/2021      Metropol AVM  \n",
       "4           Cash   24/10/2021            Kanyon  \n",
       "5    Credit Card   24/05/2022    Forum Istanbul  \n",
       "6           Cash   13/03/2022      Istinye Park  \n",
       "7    Credit Card   13/01/2021  Mall of Istanbul  \n",
       "8    Credit Card    4/11/2021         Metrocity  \n",
       "9    Credit Card   22/08/2021            Kanyon  "
      ]
     },
     "execution_count": 11,
     "metadata": {},
     "output_type": "execute_result"
    }
   ],
   "source": [
    "# veamos los 10 primeros registros del dataset\n",
    "df.head(10)"
   ]
  },
  {
   "cell_type": "code",
   "execution_count": 12,
   "id": "af40243b-8197-4210-a9eb-bbdfc7a64fca",
   "metadata": {},
   "outputs": [
    {
     "name": "stdout",
     "output_type": "stream",
     "text": [
      "<class 'pandas.core.frame.DataFrame'>\n",
      "RangeIndex: 99457 entries, 0 to 99456\n",
      "Data columns (total 10 columns):\n",
      " #   Column          Non-Null Count  Dtype  \n",
      "---  ------          --------------  -----  \n",
      " 0   invoice_no      99457 non-null  object \n",
      " 1   customer_id     99457 non-null  object \n",
      " 2   gender          99457 non-null  object \n",
      " 3   age             99457 non-null  int64  \n",
      " 4   category        99457 non-null  object \n",
      " 5   quantity        99457 non-null  int64  \n",
      " 6   price           99457 non-null  float64\n",
      " 7   payment_method  99457 non-null  object \n",
      " 8   invoice_date    99457 non-null  object \n",
      " 9   shopping_mall   99457 non-null  object \n",
      "dtypes: float64(1), int64(2), object(7)\n",
      "memory usage: 7.6+ MB\n"
     ]
    }
   ],
   "source": [
    "# mostrar informacion basica del dataset\n",
    "df.info()"
   ]
  },
  {
   "cell_type": "markdown",
   "id": "3b89473b-9499-431d-9a25-cf6bee25d5ca",
   "metadata": {},
   "source": [
    "---\n",
    "**Podemos observar**:  \n",
    "* age y quantity son enteros  \n",
    "* price es flotante, una variable continua\n",
    "* Las demas variables son de tipo object \"string\""
   ]
  },
  {
   "cell_type": "code",
   "execution_count": 14,
   "id": "bcdf5cbb-93a7-4969-b403-e0e81b26897b",
   "metadata": {},
   "outputs": [
    {
     "data": {
      "text/html": [
       "<div>\n",
       "<style scoped>\n",
       "    .dataframe tbody tr th:only-of-type {\n",
       "        vertical-align: middle;\n",
       "    }\n",
       "\n",
       "    .dataframe tbody tr th {\n",
       "        vertical-align: top;\n",
       "    }\n",
       "\n",
       "    .dataframe thead th {\n",
       "        text-align: right;\n",
       "    }\n",
       "</style>\n",
       "<table border=\"1\" class=\"dataframe\">\n",
       "  <thead>\n",
       "    <tr style=\"text-align: right;\">\n",
       "      <th></th>\n",
       "      <th>age</th>\n",
       "      <th>quantity</th>\n",
       "      <th>price</th>\n",
       "    </tr>\n",
       "  </thead>\n",
       "  <tbody>\n",
       "    <tr>\n",
       "      <th>count</th>\n",
       "      <td>99457.000000</td>\n",
       "      <td>99457.000000</td>\n",
       "      <td>99457.000000</td>\n",
       "    </tr>\n",
       "    <tr>\n",
       "      <th>mean</th>\n",
       "      <td>43.427089</td>\n",
       "      <td>3.003429</td>\n",
       "      <td>689.256321</td>\n",
       "    </tr>\n",
       "    <tr>\n",
       "      <th>std</th>\n",
       "      <td>14.990054</td>\n",
       "      <td>1.413025</td>\n",
       "      <td>941.184567</td>\n",
       "    </tr>\n",
       "    <tr>\n",
       "      <th>min</th>\n",
       "      <td>18.000000</td>\n",
       "      <td>1.000000</td>\n",
       "      <td>5.230000</td>\n",
       "    </tr>\n",
       "    <tr>\n",
       "      <th>25%</th>\n",
       "      <td>30.000000</td>\n",
       "      <td>2.000000</td>\n",
       "      <td>45.450000</td>\n",
       "    </tr>\n",
       "    <tr>\n",
       "      <th>50%</th>\n",
       "      <td>43.000000</td>\n",
       "      <td>3.000000</td>\n",
       "      <td>203.300000</td>\n",
       "    </tr>\n",
       "    <tr>\n",
       "      <th>75%</th>\n",
       "      <td>56.000000</td>\n",
       "      <td>4.000000</td>\n",
       "      <td>1200.320000</td>\n",
       "    </tr>\n",
       "    <tr>\n",
       "      <th>max</th>\n",
       "      <td>69.000000</td>\n",
       "      <td>5.000000</td>\n",
       "      <td>5250.000000</td>\n",
       "    </tr>\n",
       "  </tbody>\n",
       "</table>\n",
       "</div>"
      ],
      "text/plain": [
       "                age      quantity         price\n",
       "count  99457.000000  99457.000000  99457.000000\n",
       "mean      43.427089      3.003429    689.256321\n",
       "std       14.990054      1.413025    941.184567\n",
       "min       18.000000      1.000000      5.230000\n",
       "25%       30.000000      2.000000     45.450000\n",
       "50%       43.000000      3.000000    203.300000\n",
       "75%       56.000000      4.000000   1200.320000\n",
       "max       69.000000      5.000000   5250.000000"
      ]
     },
     "execution_count": 14,
     "metadata": {},
     "output_type": "execute_result"
    }
   ],
   "source": [
    "# Informacion estadistica del dataset\n",
    "df.describe()"
   ]
  },
  {
   "cell_type": "markdown",
   "id": "2e87da3f-a789-430c-a53b-1e19b35c047d",
   "metadata": {},
   "source": [
    "## 🔍 **Conclusiones rápidas:**\n",
    "- La mayoría de las edades están entre **30 y 56 años**, con un promedio de **43.4**.\n",
    "- La mayoría de las compras son de **2 a 4 unidades**.\n",
    "- Los precios varían mucho **desviación estándar alta**. La mayoría de las compras cuestan menos de **1200.32**, pero hay algunas muy caras **hasta 5250**, lo que sugiere la presencia de valores atípicos o una distribución sesgada."
   ]
  },
  {
   "cell_type": "markdown",
   "id": "445f1390-95bc-4160-9f03-7559bc7559f4",
   "metadata": {},
   "source": [
    "### **Observando algunas variables del dataset**"
   ]
  },
  {
   "cell_type": "code",
   "execution_count": 17,
   "id": "89e4d70c-fade-4271-8b4d-3e45e2413b1b",
   "metadata": {},
   "outputs": [
    {
     "data": {
      "text/plain": [
       "category\n",
       "Clothing           34487\n",
       "Cosmetics          15097\n",
       "Food & Beverage    14776\n",
       "Toys               10087\n",
       "Shoes              10034\n",
       "Souvenir            4999\n",
       "Technology          4996\n",
       "Books               4981\n",
       "Name: count, dtype: int64"
      ]
     },
     "execution_count": 17,
     "metadata": {},
     "output_type": "execute_result"
    }
   ],
   "source": [
    "# mostrar que categorias hay\n",
    "df['category'].value_counts()"
   ]
  },
  {
   "cell_type": "code",
   "execution_count": 18,
   "id": "b52702ba-473c-46bd-820f-c5e332bdcb19",
   "metadata": {},
   "outputs": [
    {
     "data": {
      "text/plain": [
       "payment_method\n",
       "Cash           44447\n",
       "Credit Card    34931\n",
       "Debit Card     20079\n",
       "Name: count, dtype: int64"
      ]
     },
     "execution_count": 18,
     "metadata": {},
     "output_type": "execute_result"
    }
   ],
   "source": [
    "# mostar los metodos de pago\n",
    "df['payment_method'].value_counts()"
   ]
  },
  {
   "cell_type": "code",
   "execution_count": 19,
   "id": "795aca23-34c2-44af-96ac-a669f00a608e",
   "metadata": {},
   "outputs": [
    {
     "data": {
      "text/plain": [
       "shopping_mall\n",
       "Mall of Istanbul     19943\n",
       "Kanyon               19823\n",
       "Metrocity            15011\n",
       "Metropol AVM         10161\n",
       "Istinye Park          9781\n",
       "Zorlu Center          5075\n",
       "Cevahir AVM           4991\n",
       "Forum Istanbul        4947\n",
       "Viaport Outlet        4914\n",
       "Emaar Square Mall     4811\n",
       "Name: count, dtype: int64"
      ]
     },
     "execution_count": 19,
     "metadata": {},
     "output_type": "execute_result"
    }
   ],
   "source": [
    "# mostrar los tipos de centros comerciales\n",
    "df['shopping_mall'].value_counts()"
   ]
  },
  {
   "cell_type": "markdown",
   "id": "3d886389-4f4e-4bf4-8491-a527c87e885d",
   "metadata": {},
   "source": [
    "### **Graficando algunas variables de dataset**"
   ]
  },
  {
   "cell_type": "code",
   "execution_count": 21,
   "id": "d95750ed-45ea-4763-8725-9780fe73a7c0",
   "metadata": {},
   "outputs": [],
   "source": [
    "%matplotlib inline\n",
    "import matplotlib.pyplot as plt"
   ]
  },
  {
   "cell_type": "code",
   "execution_count": 22,
   "id": "8de6b292-0663-4055-b70b-c0ca18ca9734",
   "metadata": {},
   "outputs": [
    {
     "data": {
      "image/png": "[encoded data removed]",
      "text/plain": [
       "<Figure size 1000x300 with 1 Axes>"
      ]
     },
     "metadata": {},
     "output_type": "display_data"
    }
   ],
   "source": [
    "# Configurar el tamaño del gráfico\n",
    "plt.figure(figsize=(10, 3))\n",
    "\n",
    "# Contar las categorías y graficarlas\n",
    "df[\"category\"].value_counts().plot(kind=\"bar\", color=\"black\")\n",
    "\n",
    "# Etiquetas y título\n",
    "plt.xlabel(\"Categoría de Productos\")\n",
    "plt.ylabel(\"Cantidad de Ventas\")\n",
    "plt.title(\"Ventas por Categoría\")\n",
    "plt.xticks(rotation=45)  # Rotar etiquetas para mejor visualización\n",
    "\n",
    "# Mostrar el gráfico\n",
    "plt.show()\n"
   ]
  },
  {
   "cell_type": "code",
   "execution_count": 23,
   "id": "664d991b-4b3e-429a-bdec-ec9f6a9a559a",
   "metadata": {},
   "outputs": [
    {
     "data": {
      "image/png": "[encoded data removed]",
      "text/plain": [
       "<Figure size 500x300 with 1 Axes>"
      ]
     },
     "metadata": {},
     "output_type": "display_data"
    }
   ],
   "source": [
    "# Configurar tamaño de la figura\n",
    "plt.figure(figsize=(5, 3))\n",
    "\n",
    "# Graficar los métodos de pago\n",
    "df[\"payment_method\"].value_counts().plot(kind=\"bar\", color=\"black\")\n",
    "\n",
    "# Etiquetas y título\n",
    "plt.xlabel(\"Método de Pago\")\n",
    "plt.ylabel(\"Cantidad de Transacciones\")\n",
    "plt.title(\"Distribución de Métodos de Pago\")\n",
    "plt.xticks(rotation=45)  # Rotar etiquetas para mejor visualización\n",
    "\n",
    "# Mostrar gráfico\n",
    "plt.show()"
   ]
  },
  {
   "cell_type": "code",
   "execution_count": 24,
   "id": "055437b2-ef48-4a1d-81a8-469f0eb6a204",
   "metadata": {},
   "outputs": [
    {
     "data": {
      "image/png": "[encoded data removed]",
      "text/plain": [
       "<Figure size 1000x300 with 1 Axes>"
      ]
     },
     "metadata": {},
     "output_type": "display_data"
    }
   ],
   "source": [
    "# Configurar otra figura para shopping_mall\n",
    "plt.figure(figsize=(10, 3))\n",
    "\n",
    "# Graficar los centros comerciales\n",
    "df[\"shopping_mall\"].value_counts().plot(kind=\"bar\", color=\"black\")\n",
    "\n",
    "# Etiquetas y título\n",
    "plt.xlabel(\"Centro Comercial\")\n",
    "plt.ylabel(\"Cantidad de Compras\")\n",
    "plt.title(\"Compras por Centro Comercial\")\n",
    "plt.xticks(rotation=45)  # Rotar etiquetas para mejor visualización\n",
    "\n",
    "# Mostrar gráfico\n",
    "plt.show()"
   ]
  },
  {
   "cell_type": "code",
   "execution_count": 25,
   "id": "4ea57fe3-ceb6-4dbb-8bbd-6eac26eb52a8",
   "metadata": {},
   "outputs": [
    {
     "data": {
      "image/png": "[encoded data removed]",
      "text/plain": [
       "<Figure size 800x500 with 1 Axes>"
      ]
     },
     "metadata": {},
     "output_type": "display_data"
    }
   ],
   "source": [
    "# Configurar tamaño de la figura\n",
    "plt.figure(figsize=(8, 5))\n",
    "\n",
    "# Graficar la distribución de género\n",
    "df[\"gender\"].value_counts().plot(kind=\"bar\", color=\"black\")\n",
    "\n",
    "# Etiquetas y título\n",
    "plt.xlabel(\"Género\")\n",
    "plt.ylabel(\"Cantidad de Compradores\")\n",
    "plt.title(\"Distribución de Género en las Compras\")\n",
    "plt.xticks(rotation=0)  # No es necesario rotar si son pocas categorías\n",
    "\n",
    "# Mostrar gráfico\n",
    "plt.show()"
   ]
  },
  {
   "cell_type": "markdown",
   "id": "4afbb3c8-412c-475f-a3a6-6802a93fa850",
   "metadata": {},
   "source": [
    "## 🔍 **Conclusiones rápidas:**\n",
    "- La categoria mas vendida es **Clothing**.\n",
    "- El metodo de paga preferido por los compradores es **Cash**, le sigue **Credit Card** y por ultimo esta **Debit Card**\n",
    "- **Mall of Istanbul** y **Kanyon** son los centros comerciales donde las personas prefieren comprar.\n",
    "- Las **Mujeres** son las que mas compran\n",
    "\n",
    "---"
   ]
  },
  {
   "cell_type": "markdown",
   "id": "c58d3023-1714-4070-b02d-d6a74f287a5d",
   "metadata": {},
   "source": [
    "## **Generando los scripts necesarios**\n",
    "En este paso se realizara los scripts necesarios para exportar los datos en formato csv para poder poblar las tablas en la bodega de datos"
   ]
  },
  {
   "cell_type": "code",
   "execution_count": 28,
   "id": "9da2c6c0-9b9c-4c97-a59d-cc4e786198ff",
   "metadata": {},
   "outputs": [],
   "source": [
    "# Crear y guardar la tabla dim_payment\n",
    "dim_payment = df[[\"payment_method\"]].drop_duplicates().reset_index(drop=True)\n",
    "dim_payment[\"payment_method_id\"] = dim_payment.index + 1\n",
    "\n",
    "dim_payment_exp = dim_payment[['payment_method_id', 'payment_method']] \n",
    "dim_payment_exp.to_csv(\"./scripts/dim_payment.csv\", index=False)"
   ]
  },
  {
   "cell_type": "code",
   "execution_count": 29,
   "id": "da92b9cc-c248-4126-86d2-69b9fc3056b4",
   "metadata": {},
   "outputs": [],
   "source": [
    "# Crear y guardar la tabla dim_category\n",
    "dim_category = df[[\"category\"]].drop_duplicates().reset_index(drop=True)\n",
    "dim_category[\"category_id\"] = dim_category.index + 1\n",
    "\n",
    "dim_category_exp = dim_category[['category_id', 'category']]\n",
    "dim_category_exp.to_csv(\"./scripts/dim_category.csv\", index=False)"
   ]
  },
  {
   "cell_type": "code",
   "execution_count": 30,
   "id": "8a22432c-5cf3-4258-ade7-455597eaf7f6",
   "metadata": {},
   "outputs": [],
   "source": [
    "# Crear y guardar la tabla dim_mall\n",
    "dim_mall = df[[\"shopping_mall\"]].drop_duplicates().reset_index(drop=True)\n",
    "dim_mall[\"shopping_mall_id\"] = dim_mall.index + 1\n",
    "\n",
    "dim_mall_exp = dim_mall[['shopping_mall_id', 'shopping_mall']]\n",
    "dim_mall_exp.to_csv(\"./scripts/dim_mall.csv\", index=False)"
   ]
  },
  {
   "cell_type": "code",
   "execution_count": 31,
   "id": "27c00069-f8fe-4a71-807f-07c0328508b6",
   "metadata": {},
   "outputs": [],
   "source": [
    "# Crear y guardar la tabla dim_customer\n",
    "dim_customer = df[[\"customer_id\", \"gender\", \"age\"]].drop_duplicates()\n",
    "dim_customer.to_csv(\"./scripts/dim_customer.csv\", index=False)"
   ]
  },
  {
   "cell_type": "code",
   "execution_count": 32,
   "id": "740e0306-e537-4cbc-91e4-aa46d0813a60",
   "metadata": {},
   "outputs": [],
   "source": [
    "# Crear y guardar la tabla dim_date\n",
    "df[\"invoice_date\"] = pd.to_datetime(df[\"invoice_date\"], format=\"%d/%m/%Y\")\n",
    "dim_date = df[[\"invoice_date\"]].drop_duplicates()\n",
    "\n",
    "dim_date[\"year\"] = dim_date[\"invoice_date\"].dt.year\n",
    "dim_date[\"month\"] = dim_date[\"invoice_date\"].dt.month\n",
    "dim_date[\"day\"] = dim_date[\"invoice_date\"].dt.day\n",
    "dim_date[\"week_of_year\"] = dim_date[\"invoice_date\"].dt.isocalendar().week\n",
    "dim_date[\"weekday\"] = dim_date[\"invoice_date\"].dt.day_name()\n",
    "dim_date.to_csv(\"./scripts/dim_date.csv\", index=False)"
   ]
  },
  {
   "cell_type": "code",
   "execution_count": 33,
   "id": "54eaa281-f345-4b1c-aa7d-7119c10b84b0",
   "metadata": {},
   "outputs": [],
   "source": [
    "# Guardar la tabla fact_sales con IDs correctos\n",
    "df = df.merge(dim_category, on=\"category\", how=\"left\")\n",
    "df = df.merge(dim_payment, on=\"payment_method\", how=\"left\")\n",
    "df = df.merge(dim_mall, on=\"shopping_mall\", how=\"left\")\n",
    "df = df.merge(dim_date, on=\"invoice_date\", how=\"left\")\n",
    "\n",
    "fact_sales = df[[\"invoice_no\", \"customer_id\", \"category_id\", \"payment_method_id\", \"shopping_mall_id\", \"invoice_date\", \"quantity\", \"price\"]]\n",
    "fact_sales.to_csv(\"./scripts/fact_sales.csv\", index=False)"
   ]
  }
 ],
 "metadata": {
  "kernelspec": {
   "display_name": "Python [conda env:base] *",
   "language": "python",
   "name": "conda-base-py"
  },
  "language_info": {
   "codemirror_mode": {
    "name": "ipython",
    "version": 3
   },
   "file_extension": ".py",
   "mimetype": "text/x-python",
   "name": "python",
   "nbconvert_exporter": "python",
   "pygments_lexer": "ipython3",
   "version": "3.12.2"
  }
 },
 "nbformat": 4,
 "nbformat_minor": 5
}
